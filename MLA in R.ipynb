{
 "cells": [
  {
   "cell_type": "markdown",
   "id": "070fd008-c06f-4f85-903c-410cba1a60b7",
   "metadata": {},
   "source": [
    "# **Machine Learning App in R**"
   ]
  },
  {
   "cell_type": "markdown",
   "id": "a336a46e-3723-494a-9174-aeb8022ecbeb",
   "metadata": {},
   "source": [
    "## **Brian J. Ault**"
   ]
  },
  {
   "cell_type": "markdown",
   "id": "65fe0eed-86bb-4774-b732-27588ed6d10e",
   "metadata": {},
   "source": [
    "### **Load The Data**"
   ]
  },
  {
   "cell_type": "code",
   "execution_count": 2,
   "id": "9814de3e-63a8-455f-80dc-c8032bdeec04",
   "metadata": {},
   "outputs": [],
   "source": [
    "# attach the iris dataset to the environment\n",
    "data(iris)\n",
    "# rename the dataset\n",
    "dataset <- iris"
   ]
  },
  {
   "cell_type": "code",
   "execution_count": 3,
   "id": "d28713e0-3792-4815-a13a-a469dc94c2cd",
   "metadata": {},
   "outputs": [],
   "source": [
    "# define the filename\n",
    "filename <- \"iris.csv\"\n",
    "# load the CSV file from the local directory\n",
    "dataset <- read.csv(filename, header=FALSE)\n",
    "# set the column names in the dataset\n",
    "colnames(dataset) <- c(\"Sepal.Length\",\"Sepal.Width\",\"Petal.Length\",\"Petal.Width\",\"Species\")"
   ]
  },
  {
   "cell_type": "markdown",
   "id": "0f0ec93c-600d-4312-b4ef-32f895ce5585",
   "metadata": {},
   "source": [
    "### **Create a Validation Dataset**"
   ]
  },
  {
   "cell_type": "code",
   "execution_count": 5,
   "id": "9ed77bb8-a817-4093-aa8a-cc9a1519f189",
   "metadata": {},
   "outputs": [
    {
     "ename": "ERROR",
     "evalue": "Error in library(caret): there is no package called ‘caret’\n",
     "output_type": "error",
     "traceback": [
      "Error in library(caret): there is no package called ‘caret’\nTraceback:\n",
      "1. library(caret)"
     ]
    }
   ],
   "source": [
    "# install.packages(\"caret\")\n",
    "library(caret)\n",
    "\n",
    "# Assuming 'dataset' is your original dataset\n",
    "\n",
    "# Set seed for reproducibility\n",
    "set.seed(123)\n",
    "\n",
    "# Create an index to split the data\n",
    "validation_index <- createDataPartition(dataset$Species, p = 0.80, list = FALSE)\n",
    "\n",
    "# Create training and validation datasets\n",
    "training <- dataset[validation_index, ]  # 80% of original dataset\n",
    "validation <- dataset[-validation_index, ]  # 20% of original dataset"
   ]
  },
  {
   "cell_type": "code",
   "execution_count": null,
   "id": "b60971d1-300a-4cc5-8492-ac257da3c35f",
   "metadata": {},
   "outputs": [],
   "source": []
  }
 ],
 "metadata": {
  "kernelspec": {
   "display_name": "R",
   "language": "R",
   "name": "ir"
  },
  "language_info": {
   "codemirror_mode": "r",
   "file_extension": ".r",
   "mimetype": "text/x-r-source",
   "name": "R",
   "pygments_lexer": "r",
   "version": "4.0.5"
  }
 },
 "nbformat": 4,
 "nbformat_minor": 5
}
