{
 "cells": [
  {
   "cell_type": "markdown",
   "id": "070fd008-c06f-4f85-903c-410cba1a60b7",
   "metadata": {},
   "source": [
    "# **Machine Learning App in R**"
   ]
  },
  {
   "cell_type": "markdown",
   "id": "a336a46e-3723-494a-9174-aeb8022ecbeb",
   "metadata": {},
   "source": [
    "## **Brian J. Ault**"
   ]
  },
  {
   "cell_type": "markdown",
   "id": "65fe0eed-86bb-4774-b732-27588ed6d10e",
   "metadata": {},
   "source": [
    "### **Load The Data**"
   ]
  },
  {
   "cell_type": "code",
   "execution_count": 2,
   "id": "9814de3e-63a8-455f-80dc-c8032bdeec04",
   "metadata": {},
   "outputs": [],
   "source": [
    "# attach the iris dataset to the environment\n",
    "data(iris)\n",
    "# rename the dataset\n",
    "dataset <- iris"
   ]
  },
  {
   "cell_type": "code",
   "execution_count": 3,
   "id": "d28713e0-3792-4815-a13a-a469dc94c2cd",
   "metadata": {},
   "outputs": [],
   "source": [
    "# define the filename\n",
    "filename <- \"iris.csv\"\n",
    "# load the CSV file from the local directory\n",
    "dataset <- read.csv(filename, header=FALSE)\n",
    "# set the column names in the dataset\n",
    "colnames(dataset) <- c(\"Sepal.Length\",\"Sepal.Width\",\"Petal.Length\",\"Petal.Width\",\"Species\")"
   ]
  },
  {
   "cell_type": "markdown",
   "id": "0f0ec93c-600d-4312-b4ef-32f895ce5585",
   "metadata": {},
   "source": [
    "### **Create a Validation Dataset**"
   ]
  },
  {
   "cell_type": "code",
   "execution_count": 4,
   "id": "9ed77bb8-a817-4093-aa8a-cc9a1519f189",
   "metadata": {},
   "outputs": [
    {
     "name": "stderr",
     "output_type": "stream",
     "text": [
      "Loading required package: ggplot2\n",
      "\n",
      "Loading required package: lattice\n",
      "\n",
      "Warning message in createDataPartition(dataset$Species, p = 0.8, list = FALSE):\n",
      "“Some classes have a single record ( name ) and these will be selected for the sample”\n"
     ]
    }
   ],
   "source": [
    "# install.packages(\"caret\")\n",
    "library(caret)\n",
    "\n",
    "# Assuming 'dataset' is your original dataset\n",
    "\n",
    "# Set seed for reproducibility\n",
    "set.seed(123)\n",
    "\n",
    "# Create an index to split the data\n",
    "validation_index <- createDataPartition(dataset$Species, p = 0.80, list = FALSE)\n",
    "\n",
    "# Create training and validation datasets\n",
    "training <- dataset[validation_index, ]  # 80% of original dataset\n",
    "validation <- dataset[-validation_index, ]  # 20% of original dataset"
   ]
  },
  {
   "cell_type": "markdown",
   "id": "c91d2b97-1ffd-49db-9f6e-813cf2b340f7",
   "metadata": {},
   "source": [
    "### **Summarize Dataset**"
   ]
  },
  {
   "cell_type": "code",
   "execution_count": 30,
   "id": "ec560ba0-44f5-48a8-ac89-2ed0163480cb",
   "metadata": {},
   "outputs": [
    {
     "data": {
      "text/html": [
       "<style>\n",
       ".list-inline {list-style: none; margin:0; padding: 0}\n",
       ".list-inline>li {display: inline-block}\n",
       ".list-inline>li:not(:last-child)::after {content: \"\\00b7\"; padding: 0 .5ex}\n",
       "</style>\n",
       "<ol class=list-inline><li>151</li><li>5</li></ol>\n"
      ],
      "text/latex": [
       "\\begin{enumerate*}\n",
       "\\item 151\n",
       "\\item 5\n",
       "\\end{enumerate*}\n"
      ],
      "text/markdown": [
       "1. 151\n",
       "2. 5\n",
       "\n",
       "\n"
      ],
      "text/plain": [
       "[1] 151   5"
      ]
     },
     "metadata": {},
     "output_type": "display_data"
    }
   ],
   "source": [
    "# dimensions of dataset\n",
    "dim(dataset)"
   ]
  },
  {
   "cell_type": "code",
   "execution_count": 31,
   "id": "fa4c57b2-cda3-4fe6-af0b-d3f341182ddf",
   "metadata": {},
   "outputs": [
    {
     "data": {
      "text/html": [
       "<style>\n",
       ".dl-inline {width: auto; margin:0; padding: 0}\n",
       ".dl-inline>dt, .dl-inline>dd {float: none; width: auto; display: inline-block}\n",
       ".dl-inline>dt::after {content: \":\\0020\"; padding-right: .5ex}\n",
       ".dl-inline>dt:not(:first-of-type) {padding-left: .5ex}\n",
       "</style><dl class=dl-inline><dt>Sepal.Length</dt><dd>'character'</dd><dt>Sepal.Width</dt><dd>'character'</dd><dt>Petal.Length</dt><dd>'character'</dd><dt>Petal.Width</dt><dd>'character'</dd><dt>Species</dt><dd>'character'</dd></dl>\n"
      ],
      "text/latex": [
       "\\begin{description*}\n",
       "\\item[Sepal.Length] 'character'\n",
       "\\item[Sepal.Width] 'character'\n",
       "\\item[Petal.Length] 'character'\n",
       "\\item[Petal.Width] 'character'\n",
       "\\item[Species] 'character'\n",
       "\\end{description*}\n"
      ],
      "text/markdown": [
       "Sepal.Length\n",
       ":   'character'Sepal.Width\n",
       ":   'character'Petal.Length\n",
       ":   'character'Petal.Width\n",
       ":   'character'Species\n",
       ":   'character'\n",
       "\n"
      ],
      "text/plain": [
       "Sepal.Length  Sepal.Width Petal.Length  Petal.Width      Species \n",
       " \"character\"  \"character\"  \"character\"  \"character\"  \"character\" "
      ]
     },
     "metadata": {},
     "output_type": "display_data"
    }
   ],
   "source": [
    "# list types for each attribute\n",
    "sapply(dataset, class)"
   ]
  },
  {
   "cell_type": "code",
   "execution_count": 32,
   "id": "623a854e-7746-4457-817f-d8fbe50ad76c",
   "metadata": {},
   "outputs": [
    {
     "data": {
      "text/html": [
       "<table class=\"dataframe\">\n",
       "<caption>A data.frame: 6 × 5</caption>\n",
       "<thead>\n",
       "\t<tr><th></th><th scope=col>Sepal.Length</th><th scope=col>Sepal.Width</th><th scope=col>Petal.Length</th><th scope=col>Petal.Width</th><th scope=col>Species</th></tr>\n",
       "\t<tr><th></th><th scope=col>&lt;chr&gt;</th><th scope=col>&lt;chr&gt;</th><th scope=col>&lt;chr&gt;</th><th scope=col>&lt;chr&gt;</th><th scope=col>&lt;chr&gt;</th></tr>\n",
       "</thead>\n",
       "<tbody>\n",
       "\t<tr><th scope=row>1</th><td>sepal_length</td><td>sepal_width</td><td>petal_length</td><td>petal_width</td><td>name  </td></tr>\n",
       "\t<tr><th scope=row>2</th><td>5.1         </td><td>3.5        </td><td>1.4         </td><td>0.2        </td><td>setosa</td></tr>\n",
       "\t<tr><th scope=row>3</th><td>4.9         </td><td>3.0        </td><td>1.4         </td><td>0.2        </td><td>setosa</td></tr>\n",
       "\t<tr><th scope=row>4</th><td>4.7         </td><td>3.2        </td><td>1.3         </td><td>0.2        </td><td>setosa</td></tr>\n",
       "\t<tr><th scope=row>5</th><td>4.6         </td><td>3.1        </td><td>1.5         </td><td>0.2        </td><td>setosa</td></tr>\n",
       "\t<tr><th scope=row>6</th><td>5.0         </td><td>3.6        </td><td>1.4         </td><td>0.2        </td><td>setosa</td></tr>\n",
       "</tbody>\n",
       "</table>\n"
      ],
      "text/latex": [
       "A data.frame: 6 × 5\n",
       "\\begin{tabular}{r|lllll}\n",
       "  & Sepal.Length & Sepal.Width & Petal.Length & Petal.Width & Species\\\\\n",
       "  & <chr> & <chr> & <chr> & <chr> & <chr>\\\\\n",
       "\\hline\n",
       "\t1 & sepal\\_length & sepal\\_width & petal\\_length & petal\\_width & name  \\\\\n",
       "\t2 & 5.1          & 3.5         & 1.4          & 0.2         & setosa\\\\\n",
       "\t3 & 4.9          & 3.0         & 1.4          & 0.2         & setosa\\\\\n",
       "\t4 & 4.7          & 3.2         & 1.3          & 0.2         & setosa\\\\\n",
       "\t5 & 4.6          & 3.1         & 1.5          & 0.2         & setosa\\\\\n",
       "\t6 & 5.0          & 3.6         & 1.4          & 0.2         & setosa\\\\\n",
       "\\end{tabular}\n"
      ],
      "text/markdown": [
       "\n",
       "A data.frame: 6 × 5\n",
       "\n",
       "| <!--/--> | Sepal.Length &lt;chr&gt; | Sepal.Width &lt;chr&gt; | Petal.Length &lt;chr&gt; | Petal.Width &lt;chr&gt; | Species &lt;chr&gt; |\n",
       "|---|---|---|---|---|---|\n",
       "| 1 | sepal_length | sepal_width | petal_length | petal_width | name   |\n",
       "| 2 | 5.1          | 3.5         | 1.4          | 0.2         | setosa |\n",
       "| 3 | 4.9          | 3.0         | 1.4          | 0.2         | setosa |\n",
       "| 4 | 4.7          | 3.2         | 1.3          | 0.2         | setosa |\n",
       "| 5 | 4.6          | 3.1         | 1.5          | 0.2         | setosa |\n",
       "| 6 | 5.0          | 3.6         | 1.4          | 0.2         | setosa |\n",
       "\n"
      ],
      "text/plain": [
       "  Sepal.Length Sepal.Width Petal.Length Petal.Width Species\n",
       "1 sepal_length sepal_width petal_length petal_width name   \n",
       "2 5.1          3.5         1.4          0.2         setosa \n",
       "3 4.9          3.0         1.4          0.2         setosa \n",
       "4 4.7          3.2         1.3          0.2         setosa \n",
       "5 4.6          3.1         1.5          0.2         setosa \n",
       "6 5.0          3.6         1.4          0.2         setosa "
      ]
     },
     "metadata": {},
     "output_type": "display_data"
    }
   ],
   "source": [
    "# take a peek at the first 5 rows of the data\n",
    "head(dataset)"
   ]
  },
  {
   "cell_type": "code",
   "execution_count": 33,
   "id": "0e9a8b67-f7c8-4747-ba52-16569b52cae1",
   "metadata": {},
   "outputs": [
    {
     "data": {
      "text/plain": [
       "NULL"
      ]
     },
     "metadata": {},
     "output_type": "display_data"
    }
   ],
   "source": [
    "# list the levels for the class\n",
    "levels(dataset$Species)"
   ]
  },
  {
   "cell_type": "code",
   "execution_count": 34,
   "id": "9f283119-6dc5-4b81-b814-8ed5c8cb42c1",
   "metadata": {},
   "outputs": [
    {
     "data": {
      "text/html": [
       "<table class=\"dataframe\">\n",
       "<caption>A matrix: 4 × 2 of type dbl</caption>\n",
       "<thead>\n",
       "\t<tr><th></th><th scope=col>freq</th><th scope=col>percentage</th></tr>\n",
       "</thead>\n",
       "<tbody>\n",
       "\t<tr><th scope=row>name</th><td> 1</td><td> 0.6622517</td></tr>\n",
       "\t<tr><th scope=row>setosa</th><td>50</td><td>33.1125828</td></tr>\n",
       "\t<tr><th scope=row>versicolor</th><td>50</td><td>33.1125828</td></tr>\n",
       "\t<tr><th scope=row>virginica</th><td>50</td><td>33.1125828</td></tr>\n",
       "</tbody>\n",
       "</table>\n"
      ],
      "text/latex": [
       "A matrix: 4 × 2 of type dbl\n",
       "\\begin{tabular}{r|ll}\n",
       "  & freq & percentage\\\\\n",
       "\\hline\n",
       "\tname &  1 &  0.6622517\\\\\n",
       "\tsetosa & 50 & 33.1125828\\\\\n",
       "\tversicolor & 50 & 33.1125828\\\\\n",
       "\tvirginica & 50 & 33.1125828\\\\\n",
       "\\end{tabular}\n"
      ],
      "text/markdown": [
       "\n",
       "A matrix: 4 × 2 of type dbl\n",
       "\n",
       "| <!--/--> | freq | percentage |\n",
       "|---|---|---|\n",
       "| name |  1 |  0.6622517 |\n",
       "| setosa | 50 | 33.1125828 |\n",
       "| versicolor | 50 | 33.1125828 |\n",
       "| virginica | 50 | 33.1125828 |\n",
       "\n"
      ],
      "text/plain": [
       "           freq percentage\n",
       "name        1    0.6622517\n",
       "setosa     50   33.1125828\n",
       "versicolor 50   33.1125828\n",
       "virginica  50   33.1125828"
      ]
     },
     "metadata": {},
     "output_type": "display_data"
    }
   ],
   "source": [
    "# summarize the class distribution\n",
    "percentage <- prop.table(table(dataset$Species)) * 100\n",
    "cbind(freq=table(dataset$Species), percentage=percentage)"
   ]
  },
  {
   "cell_type": "code",
   "execution_count": 35,
   "id": "363c07cb-cff4-4408-84b4-0e7e2f7d0b5b",
   "metadata": {},
   "outputs": [
    {
     "data": {
      "text/plain": [
       " Sepal.Length       Sepal.Width        Petal.Length       Petal.Width       \n",
       " Length:151         Length:151         Length:151         Length:151        \n",
       " Class :character   Class :character   Class :character   Class :character  \n",
       " Mode  :character   Mode  :character   Mode  :character   Mode  :character  \n",
       "   Species         \n",
       " Length:151        \n",
       " Class :character  \n",
       " Mode  :character  "
      ]
     },
     "metadata": {},
     "output_type": "display_data"
    }
   ],
   "source": [
    "# summarize attribute distributions\n",
    "summary(dataset)"
   ]
  },
  {
   "cell_type": "markdown",
   "id": "7f31c889-9a71-4ffd-9e09-33175c2e443f",
   "metadata": {},
   "source": [
    "### **Visualize Dataset**"
   ]
  },
  {
   "cell_type": "code",
   "execution_count": 36,
   "id": "95ccf783-0a37-4bdb-9db1-f2225a57cd05",
   "metadata": {},
   "outputs": [],
   "source": [
    "# split input and output\n",
    "x <- dataset[,1:4]\n",
    "y <- dataset[,5]"
   ]
  },
  {
   "cell_type": "code",
   "execution_count": 37,
   "id": "39fbb21e-cbfa-4a05-9ff7-4034f1ce8bfe",
   "metadata": {},
   "outputs": [
    {
     "data": {
      "image/png": "[encoded data removed]",
      "text/plain": [
       "Plot with title “Petal.Width”"
      ]
     },
     "metadata": {
      "image/png": {
       "height": 420,
       "width": 420
      }
     },
     "output_type": "display_data"
    }
   ],
   "source": [
    "# Load the iris dataset (if not already loaded)\n",
    "data(iris)\n",
    "\n",
    "# Set up the layout for the plots (1 row, 4 columns)\n",
    "par(mfrow=c(1,4))\n",
    "\n",
    "# Create boxplots for each attribute (columns 1 to 4) in the iris dataset\n",
    "for(i in 1:4) {\n",
    "  boxplot(iris[, i], main = names(iris)[i])\n",
    "}"
   ]
  },
  {
   "cell_type": "code",
   "execution_count": 43,
   "id": "7a7a7b0c-7c49-4966-8210-531d033def8e",
   "metadata": {},
   "outputs": [
    {
     "name": "stderr",
     "output_type": "stream",
     "text": [
      "Warning message in xy.coords(x, y, xlabel, ylabel, log):\n",
      "“NAs introduced by coercion”\n",
      "Warning message in min(x):\n",
      "“no non-missing arguments to min; returning Inf”\n",
      "Warning message in max(x):\n",
      "“no non-missing arguments to max; returning -Inf”\n"
     ]
    },
    {
     "ename": "ERROR",
     "evalue": "Error in plot.window(...): need finite 'ylim' values\n",
     "output_type": "error",
     "traceback": [
      "Error in plot.window(...): need finite 'ylim' values\nTraceback:\n",
      "1. plot(y)",
      "2. plot.default(y)",
      "3. localWindow(xlim, ylim, log, asp, ...)",
      "4. plot.window(...)"
     ]
    },
    {
     "data": {
      "image/png": "[encoded data removed]",
      "text/plain": [
       "plot without title"
      ]
     },
     "metadata": {
      "image/png": {
       "height": 420,
       "width": 420
      }
     },
     "output_type": "display_data"
    }
   ],
   "source": [
    "# barplot for class breakdown\n",
    "plot(y)"
   ]
  },
  {
   "cell_type": "code",
   "execution_count": null,
   "id": "4070307e-b1fa-44d9-ad48-49cf3982a580",
   "metadata": {},
   "outputs": [],
   "source": []
  }
 ],
 "metadata": {
  "kernelspec": {
   "display_name": "R",
   "language": "R",
   "name": "ir"
  },
  "language_info": {
   "codemirror_mode": "r",
   "file_extension": ".r",
   "mimetype": "text/x-r-source",
   "name": "R",
   "pygments_lexer": "r",
   "version": "4.0.5"
  }
 },
 "nbformat": 4,
 "nbformat_minor": 5
}
